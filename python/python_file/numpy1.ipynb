{
 "cells": [
  {
   "cell_type": "code",
   "execution_count": 2,
   "metadata": {},
   "outputs": [],
   "source": [
    "import numpy as np"
   ]
  },
  {
   "cell_type": "code",
   "execution_count": 6,
   "metadata": {},
   "outputs": [
    {
     "name": "stdout",
     "output_type": "stream",
     "text": [
      "[1 2 3 4] [5 6 7 8]\n",
      "<class 'list'> <class 'list'>\n"
     ]
    }
   ],
   "source": [
    "# 可以用array()函數來執行一維陣列(串列(list)或元組(tuple))\n",
    "list1 = [1,2,3,4]\n",
    "list2 = [5,6,7,8]\n",
    "np1 = np.array(list1)\n",
    "np2 = np.array(list2)\n",
    "print(np1,np2,end='\\n')\n",
    "print(type(list1),type(list2))\n"
   ]
  },
  {
   "cell_type": "markdown",
   "metadata": {},
   "source": [
    "### 設定陣列資料格式:dtype"
   ]
  },
  {
   "cell_type": "code",
   "execution_count": 3,
   "metadata": {},
   "outputs": [
    {
     "name": "stdout",
     "output_type": "stream",
     "text": [
      "[1. 2. 3. 4. 5.]\n",
      "[1 2 3 4 5]\n"
     ]
    }
   ],
   "source": [
    "np3 = np.array([1,2,3,4,5],dtype=float)\n",
    "print(np3)\n",
    "np4 = np.array([1,2,3,4,5],dtype=int)\n",
    "print(np4)"
   ]
  },
  {
   "cell_type": "markdown",
   "metadata": {},
   "source": [
    "### 建立有序整數陣列:arange()"
   ]
  },
  {
   "cell_type": "code",
   "execution_count": 10,
   "metadata": {},
   "outputs": [
    {
     "name": "stdout",
     "output_type": "stream",
     "text": [
      "[1 2 3 4 5 6 7 8 9]\n"
     ]
    }
   ],
   "source": [
    "nplist=np.arange(1,10)#跟range相似\n",
    "print(nplist)"
   ]
  },
  {
   "cell_type": "markdown",
   "metadata": {},
   "source": [
    "### 建立等距陣列:linspace()"
   ]
  },
  {
   "cell_type": "code",
   "execution_count": 20,
   "metadata": {},
   "outputs": [
    {
     "name": "stdout",
     "output_type": "stream",
     "text": [
      "[ 1. 20.]\n"
     ]
    }
   ],
   "source": [
    "linspace = np.linspace(1,20,2)\n",
    "print(linspace)# 意思是1~20之間等距的取得2個元素。"
   ]
  },
  {
   "cell_type": "markdown",
   "metadata": {},
   "source": [
    "### 建立同值陣列:zeros()或ones()"
   ]
  },
  {
   "cell_type": "code",
   "execution_count": 24,
   "metadata": {},
   "outputs": [
    {
     "name": "stdout",
     "output_type": "stream",
     "text": [
      "[0. 0. 0. 0. 0. 0. 0. 0. 0. 0.]\n",
      "[1. 1. 1. 1. 1. 1. 1. 1. 1. 1.]\n"
     ]
    }
   ],
   "source": [
    "zeros = np.zeros(10,)\n",
    "print(zeros)# 建立全部零的陣列\n",
    "ones = np.ones(10,)\n",
    "print(ones)# 建立全部一的陣列\n"
   ]
  },
  {
   "cell_type": "markdown",
   "metadata": {},
   "source": [
    "### 建立多維陣列\n",
    "* ndim屬性:顯示陣列的維度。\n",
    "* shape屬性:顯示陣列的維度形狀。\n",
    "* size屬性:顯示陣列內所有的元素數量。"
   ]
  },
  {
   "cell_type": "code",
   "execution_count": 26,
   "metadata": {},
   "outputs": [
    {
     "name": "stdout",
     "output_type": "stream",
     "text": [
      "[[ 1  2  3  4  5]\n",
      " [ 6  7  8  9 10]\n",
      " [11 12 13 14 15]]\n",
      "維度: 2\n",
      "形狀: (3, 5)\n",
      "數量: 15\n"
     ]
    }
   ],
   "source": [
    "listdata = [[1,2,3,4,5],[6,7,8,9,10],[11,12,13,14,15]]\n",
    "numpy1 = np.array(listdata)\n",
    "print(numpy1)\n",
    "print(\"維度:\",numpy1.ndim)\n",
    "print(\"形狀:\",numpy1.shape)\n",
    "print(\"數量:\",numpy1.size)\n"
   ]
  },
  {
   "cell_type": "markdown",
   "metadata": {},
   "source": [
    "### 改變陣列形狀:reshape()\n"
   ]
  },
  {
   "cell_type": "code",
   "execution_count": 56,
   "metadata": {},
   "outputs": [
    {
     "name": "stdout",
     "output_type": "stream",
     "text": [
      "[ 1  2  3  4  5  6  7  8  9 10 11 12 13 14 15 16 17 18 19 20]\n",
      "[[ 1  2  3  4  5]\n",
      " [ 6  7  8  9 10]\n",
      " [11 12 13 14 15]\n",
      " [16 17 18 19 20]]\n"
     ]
    }
   ],
   "source": [
    "adata = np.arange(1,20+1)\n",
    "print(adata)\n",
    "rdata = adata.reshape((4,5))\n",
    "print(rdata)"
   ]
  },
  {
   "cell_type": "code",
   "execution_count": 65,
   "metadata": {},
   "outputs": [
    {
     "name": "stdout",
     "output_type": "stream",
     "text": [
      "[[ 1  2  3  4  5]\n",
      " [ 6  7  8  9 10]\n",
      " [11 12 13 14 15]]\n"
     ]
    }
   ],
   "source": [
    "listdata = [[1,2,3,4,5],[6,7,8,9,10],[11,12,13,14,15]]\n",
    "list1 = np.array(listdata)\n",
    "rdata = list1.reshape((3,5))\n",
    "print(rdata)"
   ]
  },
  {
   "cell_type": "markdown",
   "metadata": {},
   "source": [
    "### numpy陣列取值"
   ]
  },
  {
   "cell_type": "code",
   "execution_count": 96,
   "metadata": {},
   "outputs": [
    {
     "name": "stdout",
     "output_type": "stream",
     "text": [
      "[1 2 3 4 5]\n",
      "1\n",
      "[2 3 4 5]\n",
      "[1 2 3 4 5]\n",
      "[2 3 4 5]\n",
      "[5 4 3]\n"
     ]
    }
   ],
   "source": [
    "# 一維陣列取值\n",
    "na = np.arange(1,6)\n",
    "print(na)\n",
    "print(na[0])#取得是1\n",
    "print(na[1:5])#取得是[2 3 4 5]\n",
    "print(na[:])#f取得是全部\n",
    "print(na[1:5:1])# [2 3 4 5]\n",
    "print(na[5:1:-1])# [5 4 3]\n"
   ]
  },
  {
   "cell_type": "code",
   "execution_count": 16,
   "metadata": {},
   "outputs": [
    {
     "name": "stdout",
     "output_type": "stream",
     "text": [
      "[[ 1  2  3  4  5]\n",
      " [ 6  7  8  9 10]\n",
      " [11 12 13 14 15]\n",
      " [16 17 18 19 20]]\n",
      "[2]\n",
      "[19 18]\n",
      "[7 8]\n",
      "[[ 2  3]\n",
      " [ 7  8]\n",
      " [12 13]\n",
      " [17 18]]\n"
     ]
    }
   ],
   "source": [
    "# 多維陣列取值\n",
    "listna = np.arange(1,20+1).reshape(4,5)\n",
    "print(listna)# 全部的串列資料\n",
    "print(listna[0][1:2])# [2]\n",
    "print(listna[3][3:1:-1])# [19 18]\n",
    "print(listna[1,1:3])# [7 8]\n",
    "print(listna[:,1:3])"
   ]
  },
  {
   "cell_type": "markdown",
   "metadata": {},
   "source": [
    "# 產生隨機資料(Numpy.random mouble)\n",
    "* rand(d0,d1,.....dn):依設定維度形狀，返回0~1之間的隨機浮點數資料。\n",
    "* randn(d0,d1,.....dn):依設定維度形狀，返回常態分佈的隨機浮點數資料。\n",
    "* randint(最低，[最高,size]):依設定值範圍(包含最低，不含最高)返回隨機浮點數資料，size可設定返回資料的維度形狀。\n",
    "* random(size)、random_sample(size)、sample(size):依設定的維度形狀size返回隨機資料，返回0~1之間的隨機浮點數資料。\n",
    "* choice(陣列(array),size[,replace]):在指定的陣列中取值，依設定的維度形狀size返回隨機資料;若隨機資料是整數時，結果為\n",
    "arange(整數)設定陣列；replace=Flase會返回不重複的資料。"
   ]
  },
  {
   "cell_type": "code",
   "execution_count": 8,
   "metadata": {},
   "outputs": [
    {
     "name": "stdout",
     "output_type": "stream",
     "text": [
      "1.產生2x3 0~1之間的隨機浮點數\n",
      " [[0.23752959 0.7668777  0.07187311]\n",
      " [0.55585675 0.85050238 0.03279257]]\n",
      "2.產生2x3常態分佈的隨機浮點數\n",
      " [[ 2.16751007 -1.69163173  0.84550018]\n",
      " [ 0.85307576 -1.06396269 -0.39405836]]\n",
      "3.產生2~10(不含10)隨機整數\n",
      " 8\n",
      "4.產生2~4(不含5)5個的隨機整數\n",
      " [2 2 2 3 2]\n",
      "5.產生3個0~1之間的隨機浮點數\n",
      " [0.28659794 0.85161654 0.40928343] [0.66973767 0.73390136 0.00117289] [0.14318969 0.06587248 0.27578386]\n",
      "6.產生0~4(不含五)2x3的隨機整數\n",
      " [[2 3 2]\n",
      " [4 1 2]]\n",
      "7.產生0~42(不含五)6個的隨機整數\n",
      " [10 23 20  7 39 12]\n"
     ]
    }
   ],
   "source": [
    "print(\"1.產生2x3 0~1之間的隨機浮點數\\n\",np.random.rand(2,3))\n",
    "print(\"2.產生2x3常態分佈的隨機浮點數\\n\",np.random.randn(2,3))\n",
    "print(\"3.產生2~10(不含10)隨機整數\\n\",np.random.randint(2,10))\n",
    "print(\"4.產生2~4(不含5)5個的隨機整數\\n\",np.random.randint(2,4,[5]))\n",
    "print(\"5.產生3個0~1之間的隨機浮點數\\n\",np.random.random(3),np.random.random_sample(3),np.random.sample(3))\n",
    "print(\"6.產生0~4(不含五)2x3的隨機整數\\n\",np.random.choice(5,[2,3]))\n",
    "print(\"7.產生0~42(不含五)6個的隨機整數\\n\",np.random.choice(43,6,replace=False))\n"
   ]
  },
  {
   "cell_type": "code",
   "execution_count": 31,
   "metadata": {},
   "outputs": [
    {
     "name": "stdout",
     "output_type": "stream",
     "text": [
      "(4, 2)\n"
     ]
    }
   ],
   "source": [
    "# 讀取檔案取值:genfromtext()\n",
    "# with open(\"test6.csv\",\"r\",encoding=\"utf-8\") as f:\n",
    "#     print(f.read())\n",
    "a = np.genfromtxt('test6.csv',delimiter=\",\",skip_header=1)\n",
    "print(a.shape)\n"
   ]
  }
 ],
 "metadata": {
  "kernelspec": {
   "display_name": "Python 3",
   "language": "python",
   "name": "python3"
  },
  "language_info": {
   "codemirror_mode": {
    "name": "ipython",
    "version": 3
   },
   "file_extension": ".py",
   "mimetype": "text/x-python",
   "name": "python",
   "nbconvert_exporter": "python",
   "pygments_lexer": "ipython3",
   "version": "3.11.5"
  },
  "orig_nbformat": 4
 },
 "nbformat": 4,
 "nbformat_minor": 2
}
