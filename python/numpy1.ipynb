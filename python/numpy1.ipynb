{
 "cells": [
  {
   "cell_type": "code",
   "execution_count": 27,
   "metadata": {},
   "outputs": [],
   "source": [
    "import numpy as np"
   ]
  },
  {
   "cell_type": "code",
   "execution_count": 6,
   "metadata": {},
   "outputs": [
    {
     "name": "stdout",
     "output_type": "stream",
     "text": [
      "[1 2 3 4] [5 6 7 8]\n",
      "<class 'list'> <class 'list'>\n"
     ]
    }
   ],
   "source": [
    "# 可以用array()函數來執行一維陣列(串列(list)或元組(tuple))\n",
    "list1 = [1,2,3,4]\n",
    "list2 = [5,6,7,8]\n",
    "np1 = np.array(list1)\n",
    "np2 = np.array(list2)\n",
    "print(np1,np2,end='\\n')\n",
    "print(type(list1),type(list2))\n"
   ]
  },
  {
   "cell_type": "markdown",
   "metadata": {},
   "source": [
    "### 設定陣列資料格式:dtype"
   ]
  },
  {
   "cell_type": "code",
   "execution_count": 3,
   "metadata": {},
   "outputs": [
    {
     "name": "stdout",
     "output_type": "stream",
     "text": [
      "[1. 2. 3. 4. 5.]\n",
      "[1 2 3 4 5]\n"
     ]
    }
   ],
   "source": [
    "np3 = np.array([1,2,3,4,5],dtype=float)\n",
    "print(np3)\n",
    "np4 = np.array([1,2,3,4,5],dtype=int)\n",
    "print(np4)"
   ]
  },
  {
   "cell_type": "markdown",
   "metadata": {},
   "source": [
    "### 建立有序整數陣列:arange()"
   ]
  },
  {
   "cell_type": "code",
   "execution_count": 10,
   "metadata": {},
   "outputs": [
    {
     "name": "stdout",
     "output_type": "stream",
     "text": [
      "[1 2 3 4 5 6 7 8 9]\n"
     ]
    }
   ],
   "source": [
    "nplist=np.arange(1,10)#跟range相似\n",
    "print(nplist)"
   ]
  },
  {
   "cell_type": "markdown",
   "metadata": {},
   "source": [
    "### 建立等距陣列:linspace()"
   ]
  },
  {
   "cell_type": "code",
   "execution_count": 20,
   "metadata": {},
   "outputs": [
    {
     "name": "stdout",
     "output_type": "stream",
     "text": [
      "[ 1. 20.]\n"
     ]
    }
   ],
   "source": [
    "linspace = np.linspace(1,20,2)\n",
    "print(linspace)# 意思是1~20之間等距的取得2個元素。"
   ]
  },
  {
   "cell_type": "markdown",
   "metadata": {},
   "source": [
    "### 建立同值陣列:zeros()或ones()"
   ]
  },
  {
   "cell_type": "code",
   "execution_count": 24,
   "metadata": {},
   "outputs": [
    {
     "name": "stdout",
     "output_type": "stream",
     "text": [
      "[0. 0. 0. 0. 0. 0. 0. 0. 0. 0.]\n",
      "[1. 1. 1. 1. 1. 1. 1. 1. 1. 1.]\n"
     ]
    }
   ],
   "source": [
    "zeros = np.zeros(10,)\n",
    "print(zeros)# 建立全部零的陣列\n",
    "ones = np.ones(10,)\n",
    "print(ones)# 建立全部一的陣列\n"
   ]
  },
  {
   "cell_type": "markdown",
   "metadata": {},
   "source": [
    "### 建立多維陣列\n",
    "* ndim屬性:顯示陣列的維度。\n",
    "* shape屬性:顯示陣列的維度形狀。\n",
    "* size屬性:顯示陣列內所有的元素數量。"
   ]
  },
  {
   "cell_type": "code",
   "execution_count": 26,
   "metadata": {},
   "outputs": [
    {
     "name": "stdout",
     "output_type": "stream",
     "text": [
      "[[ 1  2  3  4  5]\n",
      " [ 6  7  8  9 10]\n",
      " [11 12 13 14 15]]\n",
      "維度: 2\n",
      "形狀: (3, 5)\n",
      "數量: 15\n"
     ]
    }
   ],
   "source": [
    "listdata = [[1,2,3,4,5],[6,7,8,9,10],[11,12,13,14,15]]\n",
    "numpy1 = np.array(listdata)\n",
    "print(numpy1)\n",
    "print(\"維度:\",numpy1.ndim)\n",
    "print(\"形狀:\",numpy1.shape)\n",
    "print(\"數量:\",numpy1.size)\n"
   ]
  },
  {
   "cell_type": "markdown",
   "metadata": {},
   "source": [
    "### 改變陣列形狀:reshape()\n"
   ]
  },
  {
   "cell_type": "code",
   "execution_count": 56,
   "metadata": {},
   "outputs": [
    {
     "name": "stdout",
     "output_type": "stream",
     "text": [
      "[ 1  2  3  4  5  6  7  8  9 10 11 12 13 14 15 16 17 18 19 20]\n",
      "[[ 1  2  3  4  5]\n",
      " [ 6  7  8  9 10]\n",
      " [11 12 13 14 15]\n",
      " [16 17 18 19 20]]\n"
     ]
    }
   ],
   "source": [
    "adata = np.arange(1,20+1)\n",
    "print(adata)\n",
    "rdata = adata.reshape((4,5))\n",
    "print(rdata)"
   ]
  },
  {
   "cell_type": "code",
   "execution_count": 65,
   "metadata": {},
   "outputs": [
    {
     "name": "stdout",
     "output_type": "stream",
     "text": [
      "[[ 1  2  3  4  5]\n",
      " [ 6  7  8  9 10]\n",
      " [11 12 13 14 15]]\n"
     ]
    }
   ],
   "source": [
    "listdata = [[1,2,3,4,5],[6,7,8,9,10],[11,12,13,14,15]]\n",
    "list1 = np.array(listdata)\n",
    "rdata = list1.reshape((3,5))\n",
    "print(rdata)"
   ]
  },
  {
   "cell_type": "markdown",
   "metadata": {},
   "source": [
    "### numpy陣列取值"
   ]
  },
  {
   "cell_type": "code",
   "execution_count": 96,
   "metadata": {},
   "outputs": [
    {
     "name": "stdout",
     "output_type": "stream",
     "text": [
      "[1 2 3 4 5]\n",
      "1\n",
      "[2 3 4 5]\n",
      "[1 2 3 4 5]\n",
      "[2 3 4 5]\n",
      "[5 4 3]\n"
     ]
    }
   ],
   "source": [
    "na = np.arange(1,6)\n",
    "print(na)\n",
    "print(na[0])#取得是1\n",
    "print(na[1:5])#取得是[2 3 4 5]\n",
    "print(na[:])#f取得是全部\n",
    "print(na[1:5:1])# [2 3 4 5]\n",
    "print(na[5:1:-1])# [5 4 3]\n"
   ]
  }
 ],
 "metadata": {
  "kernelspec": {
   "display_name": "Python 3",
   "language": "python",
   "name": "python3"
  },
  "language_info": {
   "codemirror_mode": {
    "name": "ipython",
    "version": 3
   },
   "file_extension": ".py",
   "mimetype": "text/x-python",
   "name": "python",
   "nbconvert_exporter": "python",
   "pygments_lexer": "ipython3",
   "version": "3.11.5"
  },
  "orig_nbformat": 4
 },
 "nbformat": 4,
 "nbformat_minor": 2
}
